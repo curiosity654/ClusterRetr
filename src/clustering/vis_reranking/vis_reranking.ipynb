{
 "cells": [
  {
   "cell_type": "code",
   "execution_count": 1,
   "metadata": {},
   "outputs": [],
   "source": [
    "import numpy as np\n",
    "import seaborn as sns\n",
    "import pandas as pd\n",
    "import matplotlib.pyplot as plt"
   ]
  },
  {
   "cell_type": "code",
   "execution_count": 17,
   "metadata": {},
   "outputs": [],
   "source": [
    "tps_wo = np.load(\"./wo_reranking_8.npy\")\n",
    "tps_w = np.load(\"./w_reranking_8.npy\")"
   ]
  },
  {
   "cell_type": "code",
   "execution_count": 18,
   "metadata": {},
   "outputs": [],
   "source": [
    "tps_wo = tps_wo.mean(axis=0)\n",
    "tps_w = tps_w.mean(axis=0)"
   ]
  },
  {
   "cell_type": "code",
   "execution_count": 19,
   "metadata": {},
   "outputs": [
    {
     "data": {
      "text/plain": [
       "array([  0.74213671,   1.47987392,   2.20815549, ..., 686.54606343,\n",
       "       686.54691707, 686.54770504])"
      ]
     },
     "execution_count": 19,
     "metadata": {},
     "output_type": "execute_result"
    }
   ],
   "source": [
    "tps_w"
   ]
  },
  {
   "cell_type": "code",
   "execution_count": 20,
   "metadata": {},
   "outputs": [
    {
     "data": {
      "text/plain": [
       "array([2.39871298e-01, 5.08175192e-01, 7.79959288e-01, ...,\n",
       "       6.86541992e+02, 6.86545341e+02, 6.86547705e+02])"
      ]
     },
     "execution_count": 20,
     "metadata": {},
     "output_type": "execute_result"
    }
   ],
   "source": [
    "tps_wo"
   ]
  },
  {
   "cell_type": "code",
   "execution_count": 21,
   "metadata": {},
   "outputs": [],
   "source": [
    "index = np.arange(len(tps_w))\n",
    "data = {\"tps\": np.concatenate([tps_wo, tps_w]), \"index\": np.concatenate([np.arange(len(tps_w))]*2), \"method\": np.array([\"tps_wo\"]*len(tps_wo)+[\"tps_w\"]*len(tps_w))}\n",
    "data = pd.DataFrame(data)"
   ]
  },
  {
   "cell_type": "code",
   "execution_count": 22,
   "metadata": {},
   "outputs": [
    {
     "data": {
      "text/html": [
       "<div>\n",
       "<style scoped>\n",
       "    .dataframe tbody tr th:only-of-type {\n",
       "        vertical-align: middle;\n",
       "    }\n",
       "\n",
       "    .dataframe tbody tr th {\n",
       "        vertical-align: top;\n",
       "    }\n",
       "\n",
       "    .dataframe thead th {\n",
       "        text-align: right;\n",
       "    }\n",
       "</style>\n",
       "<table border=\"1\" class=\"dataframe\">\n",
       "  <thead>\n",
       "    <tr style=\"text-align: right;\">\n",
       "      <th></th>\n",
       "      <th>tps</th>\n",
       "      <th>index</th>\n",
       "      <th>method</th>\n",
       "    </tr>\n",
       "  </thead>\n",
       "  <tbody>\n",
       "    <tr>\n",
       "      <th>17101</th>\n",
       "      <td>0.742137</td>\n",
       "      <td>0</td>\n",
       "      <td>tps_w</td>\n",
       "    </tr>\n",
       "    <tr>\n",
       "      <th>17102</th>\n",
       "      <td>1.479874</td>\n",
       "      <td>1</td>\n",
       "      <td>tps_w</td>\n",
       "    </tr>\n",
       "    <tr>\n",
       "      <th>17103</th>\n",
       "      <td>2.208155</td>\n",
       "      <td>2</td>\n",
       "      <td>tps_w</td>\n",
       "    </tr>\n",
       "    <tr>\n",
       "      <th>17104</th>\n",
       "      <td>2.936174</td>\n",
       "      <td>3</td>\n",
       "      <td>tps_w</td>\n",
       "    </tr>\n",
       "    <tr>\n",
       "      <th>17105</th>\n",
       "      <td>3.656445</td>\n",
       "      <td>4</td>\n",
       "      <td>tps_w</td>\n",
       "    </tr>\n",
       "    <tr>\n",
       "      <th>...</th>\n",
       "      <td>...</td>\n",
       "      <td>...</td>\n",
       "      <td>...</td>\n",
       "    </tr>\n",
       "    <tr>\n",
       "      <th>34197</th>\n",
       "      <td>686.544487</td>\n",
       "      <td>17096</td>\n",
       "      <td>tps_w</td>\n",
       "    </tr>\n",
       "    <tr>\n",
       "      <th>34198</th>\n",
       "      <td>686.545341</td>\n",
       "      <td>17097</td>\n",
       "      <td>tps_w</td>\n",
       "    </tr>\n",
       "    <tr>\n",
       "      <th>34199</th>\n",
       "      <td>686.546063</td>\n",
       "      <td>17098</td>\n",
       "      <td>tps_w</td>\n",
       "    </tr>\n",
       "    <tr>\n",
       "      <th>34200</th>\n",
       "      <td>686.546917</td>\n",
       "      <td>17099</td>\n",
       "      <td>tps_w</td>\n",
       "    </tr>\n",
       "    <tr>\n",
       "      <th>34201</th>\n",
       "      <td>686.547705</td>\n",
       "      <td>17100</td>\n",
       "      <td>tps_w</td>\n",
       "    </tr>\n",
       "  </tbody>\n",
       "</table>\n",
       "<p>17101 rows × 3 columns</p>\n",
       "</div>"
      ],
      "text/plain": [
       "              tps  index method\n",
       "17101    0.742137      0  tps_w\n",
       "17102    1.479874      1  tps_w\n",
       "17103    2.208155      2  tps_w\n",
       "17104    2.936174      3  tps_w\n",
       "17105    3.656445      4  tps_w\n",
       "...           ...    ...    ...\n",
       "34197  686.544487  17096  tps_w\n",
       "34198  686.545341  17097  tps_w\n",
       "34199  686.546063  17098  tps_w\n",
       "34200  686.546917  17099  tps_w\n",
       "34201  686.547705  17100  tps_w\n",
       "\n",
       "[17101 rows x 3 columns]"
      ]
     },
     "execution_count": 22,
     "metadata": {},
     "output_type": "execute_result"
    }
   ],
   "source": [
    "data[data[\"method\"]==\"tps_w\"]"
   ]
  },
  {
   "cell_type": "code",
   "execution_count": 24,
   "metadata": {},
   "outputs": [],
   "source": [
    "sns.lineplot(data=data, x=\"index\", y=\"tps\", hue=\"method\")\n",
    "plt.savefig(\"reranking.png\", dpi=200)"
   ]
  }
 ],
 "metadata": {
  "interpreter": {
   "hash": "2a7429b05b189a65ba315172f1369c288964bb961aeb1e0bb1705ef7b424a2bc"
  },
  "kernelspec": {
   "display_name": "Python 3.8.8 ('zeroshot')",
   "language": "python",
   "name": "python3"
  },
  "language_info": {
   "codemirror_mode": {
    "name": "ipython",
    "version": 3
   },
   "file_extension": ".py",
   "mimetype": "text/x-python",
   "name": "python",
   "nbconvert_exporter": "python",
   "pygments_lexer": "ipython3",
   "version": "3.8.8"
  },
  "orig_nbformat": 4
 },
 "nbformat": 4,
 "nbformat_minor": 2
}
