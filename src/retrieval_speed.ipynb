{
 "cells": [
  {
   "cell_type": "code",
   "execution_count": 1,
   "metadata": {},
   "outputs": [],
   "source": [
    "import pickle\n",
    "import numpy as np\n",
    "from scipy import stats\n",
    "import os\n",
    "import torch\n",
    "from tqdm import tqdm\n",
    "from scipy.spatial.distance import cdist"
   ]
  },
  {
   "cell_type": "code",
   "execution_count": 2,
   "metadata": {},
   "outputs": [],
   "source": [
    "savedir = '../checkpoints'\n",
    "feature_file = os.path.join(savedir, 'features_baseline.pickle')\n",
    "feature_file_64 = os.path.join(savedir, 'features_kld_64.pickle')"
   ]
  },
  {
   "cell_type": "code",
   "execution_count": 3,
   "metadata": {},
   "outputs": [],
   "source": [
    "with open(feature_file, 'rb') as fh:\n",
    "    predicted_features_gallery, binary_features_gallery, gt_labels_gallery, \\\n",
    "    predicted_features_query, binary_features_query, gt_labels_query, \\\n",
    "    scores, binary_scores = pickle.load(fh)"
   ]
  },
  {
   "cell_type": "code",
   "execution_count": 4,
   "metadata": {},
   "outputs": [],
   "source": [
    "with open(feature_file_64, 'rb') as fh:\n",
    "    predicted_features_gallery64, _, _, \\\n",
    "    predicted_features_query64, _, _, \\\n",
    "    _, _ = pickle.load(fh)"
   ]
  },
  {
   "cell_type": "code",
   "execution_count": 5,
   "metadata": {},
   "outputs": [],
   "source": [
    "%timeit\n",
    "scores = cdist(predicted_features_query, predicted_features_gallery)"
   ]
  },
  {
   "cell_type": "code",
   "execution_count": null,
   "metadata": {},
   "outputs": [],
   "source": [
    "%timeit\n",
    "bin_scores = cdist(binary_features_query, binary_features_gallery, metric='hamming')"
   ]
  },
  {
   "cell_type": "code",
   "execution_count": 20,
   "metadata": {},
   "outputs": [],
   "source": [
    "%timeit\n",
    "scores64 = cdist(predicted_features_query64, predicted_features_gallery64)"
   ]
  },
  {
   "cell_type": "code",
   "execution_count": 5,
   "metadata": {},
   "outputs": [],
   "source": [
    "from utils import nanopq"
   ]
  },
  {
   "cell_type": "code",
   "execution_count": 17,
   "metadata": {},
   "outputs": [],
   "source": [
    "%timeit\n",
    "pq = nanopq.PQ(M=1, verbose=False, Ks=32)\n",
    "\n",
    "X = predicted_features_gallery\n",
    "features = pq.fit(X)"
   ]
  },
  {
   "cell_type": "code",
   "execution_count": 18,
   "metadata": {},
   "outputs": [],
   "source": [
    "X_code = pq.encode(X)"
   ]
  },
  {
   "cell_type": "code",
   "execution_count": 19,
   "metadata": {},
   "outputs": [],
   "source": [
    "# binary_scores = []\n",
    "for query in predicted_features_query:\n",
    "    dists = pq.dtable(query).adist(X_code)\n",
    "    # binary_scores.append(dists)"
   ]
  },
  {
   "cell_type": "code",
   "execution_count": 21,
   "metadata": {},
   "outputs": [],
   "source": [
    "pq = nanopq.PQ(M=1, verbose=False, Ks=32)\n",
    "\n",
    "X = predicted_features_gallery64\n",
    "pq.fit(X)\n",
    "X_code = pq.encode(X)"
   ]
  },
  {
   "cell_type": "code",
   "execution_count": 22,
   "metadata": {},
   "outputs": [],
   "source": [
    "# binary_scores = []\n",
    "for query in predicted_features_query64:\n",
    "    dists = pq.dtable(query).adist(X_code)\n",
    "    # binary_scores.append(dists)"
   ]
  }
 ],
 "metadata": {
  "interpreter": {
   "hash": "2a7429b05b189a65ba315172f1369c288964bb961aeb1e0bb1705ef7b424a2bc"
  },
  "kernelspec": {
   "display_name": "Python 3.8.8 ('zeroshot')",
   "language": "python",
   "name": "python3"
  },
  "language_info": {
   "codemirror_mode": {
    "name": "ipython",
    "version": 3
   },
   "file_extension": ".py",
   "mimetype": "text/x-python",
   "name": "python",
   "nbconvert_exporter": "python",
   "pygments_lexer": "ipython3",
   "version": "3.8.8"
  },
  "orig_nbformat": 4
 },
 "nbformat": 4,
 "nbformat_minor": 2
}
