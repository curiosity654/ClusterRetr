{
 "cells": [
  {
   "cell_type": "code",
   "execution_count": 1,
   "metadata": {},
   "outputs": [],
   "source": [
    "import pickle\n",
    "import numpy as np\n",
    "from scipy import stats\n",
    "import os\n",
    "import torch\n",
    "from tqdm import tqdm\n",
    "import seaborn as sns\n",
    "import matplotlib.pyplot as plt"
   ]
  },
  {
   "cell_type": "code",
   "execution_count": 2,
   "metadata": {},
   "outputs": [],
   "source": [
    "def mean_corr(feature):\n",
    "    # feature = torch.from_numpy(feature)\n",
    "    # rho,_ = stats.pearsonr(feature,feature)\n",
    "    rho = np.corrcoef(feature.T)\n",
    "    corr = torch.from_numpy(rho)\n",
    "    mask = torch.triu(torch.ones(corr.shape[0], corr.shape[1]),diagonal=1)\n",
    "    mean_corr = torch.sum(abs(corr) * mask) / torch.sum(mask)\n",
    "\n",
    "    return mean_corr"
   ]
  },
  {
   "cell_type": "code",
   "execution_count": 3,
   "metadata": {},
   "outputs": [],
   "source": [
    "def mean_spearman(feature):\n",
    "    rho, pval = stats.spearmanr(feature)\n",
    "    corr = torch.from_numpy(rho)\n",
    "    mask = torch.triu(torch.ones(corr.shape[0], corr.shape[1]),diagonal=1)\n",
    "    mean_spearman = torch.sum(abs(corr) * mask) / torch.sum(mask)\n",
    "\n",
    "    return mean_spearman"
   ]
  },
  {
   "cell_type": "code",
   "execution_count": 4,
   "metadata": {},
   "outputs": [],
   "source": [
    "from sklearn import metrics\n",
    "\n",
    "def mmd_linear(X, Y):\n",
    "    \"\"\"MMD using linear kernel (i.e., k(x,y) = <x,y>)\n",
    "    Note that this is not the original linear MMD, only the reformulated and faster version.\n",
    "    The original version is:\n",
    "        def mmd_linear(X, Y):\n",
    "            XX = np.dot(X, X.T)\n",
    "            YY = np.dot(Y, Y.T)\n",
    "            XY = np.dot(X, Y.T)\n",
    "            return XX.mean() + YY.mean() - 2 * XY.mean()\n",
    "    Arguments:\n",
    "        X {[n_sample1, dim]} -- [X matrix]\n",
    "        Y {[n_sample2, dim]} -- [Y matrix]\n",
    "    Returns:\n",
    "        [scalar] -- [MMD value]\n",
    "    \"\"\"\n",
    "    delta = X.mean(0) - Y.mean(0)\n",
    "    return delta.dot(delta.T)\n",
    "\n",
    "\n",
    "def mmd_rbf(X, Y, gamma=1.0):\n",
    "    \"\"\"MMD using rbf (gaussian) kernel (i.e., k(x,y) = exp(-gamma * ||x-y||^2 / 2))\n",
    "    Arguments:\n",
    "        X {[n_sample1, dim]} -- [X matrix]\n",
    "        Y {[n_sample2, dim]} -- [Y matrix]\n",
    "    Keyword Arguments:\n",
    "        gamma {float} -- [kernel parameter] (default: {1.0})\n",
    "    Returns:\n",
    "        [scalar] -- [MMD value]\n",
    "    \"\"\"\n",
    "    XX = metrics.pairwise.rbf_kernel(X, X, gamma)\n",
    "    YY = metrics.pairwise.rbf_kernel(Y, Y, gamma)\n",
    "    XY = metrics.pairwise.rbf_kernel(X, Y, gamma)\n",
    "    return XX.mean() + YY.mean() - 2 * XY.mean()"
   ]
  },
  {
   "cell_type": "code",
   "execution_count": 5,
   "metadata": {},
   "outputs": [],
   "source": [
    "savedir = 'checkpoints'\n",
    "feature_file = os.path.join(savedir, 'features_baseline.pickle')"
   ]
  },
  {
   "cell_type": "code",
   "execution_count": 6,
   "metadata": {},
   "outputs": [],
   "source": [
    "savedir = 'checkpoints'\n",
    "feature_file = os.path.join(savedir, 'features_kld.pickle')"
   ]
  },
  {
   "cell_type": "code",
   "execution_count": 103,
   "metadata": {},
   "outputs": [],
   "source": [
    "savedir = 'checkpoints/SAKE_KLD0.1/512/random_5736'\n",
    "feature_file = os.path.join(savedir, 'features_zero.pickle')"
   ]
  },
  {
   "cell_type": "code",
   "execution_count": 6,
   "metadata": {},
   "outputs": [],
   "source": [
    "with open(feature_file, 'rb') as fh:\n",
    "    predicted_features_gallery, binary_features_gallery, gt_labels_gallery, \\\n",
    "    predicted_features_query, binary_features_query, gt_labels_query, \\\n",
    "    scores, binary_scores = pickle.load(fh)"
   ]
  },
  {
   "cell_type": "markdown",
   "metadata": {},
   "source": [
    "baseline"
   ]
  },
  {
   "cell_type": "code",
   "execution_count": 7,
   "metadata": {},
   "outputs": [
    {
     "name": "stdout",
     "output_type": "stream",
     "text": [
      "tensor(0.1498, dtype=torch.float64)\n",
      "tensor(0.1155, dtype=torch.float64)\n"
     ]
    }
   ],
   "source": [
    "print(mean_spearman(predicted_features_query))\n",
    "print(mean_spearman(predicted_features_gallery))"
   ]
  },
  {
   "cell_type": "code",
   "execution_count": 94,
   "metadata": {},
   "outputs": [
    {
     "name": "stdout",
     "output_type": "stream",
     "text": [
      "ShapiroResult(statistic=0.983380913734436, pvalue=0.0)\n",
      "ShapiroResult(statistic=0.9724953770637512, pvalue=0.0)\n"
     ]
    }
   ],
   "source": [
    "print(stats.shapiro(predicted_features_query))\n",
    "print(stats.shapiro(predicted_features_gallery))"
   ]
  },
  {
   "cell_type": "code",
   "execution_count": 116,
   "metadata": {},
   "outputs": [
    {
     "data": {
      "text/plain": [
       "0.3437956846700535"
      ]
     },
     "execution_count": 116,
     "metadata": {},
     "output_type": "execute_result"
    }
   ],
   "source": [
    "ks_all = [stats.ks_2samp(predicted_features_query[:,i], predicted_features_gallery[:,i])[1] for i in range(predicted_features_query.shape[1])]\n",
    "sum(ks_all)"
   ]
  },
  {
   "cell_type": "markdown",
   "metadata": {},
   "source": [
    "kld"
   ]
  },
  {
   "cell_type": "code",
   "execution_count": 107,
   "metadata": {},
   "outputs": [
    {
     "name": "stdout",
     "output_type": "stream",
     "text": [
      "tensor(0.1268, dtype=torch.float64)\n",
      "tensor(0.1041, dtype=torch.float64)\n"
     ]
    }
   ],
   "source": [
    "print(mean_spearman(predicted_features_query))\n",
    "print(mean_spearman(predicted_features_gallery))"
   ]
  },
  {
   "cell_type": "code",
   "execution_count": 108,
   "metadata": {},
   "outputs": [
    {
     "name": "stdout",
     "output_type": "stream",
     "text": [
      "ShapiroResult(statistic=0.9599615335464478, pvalue=0.0)\n",
      "ShapiroResult(statistic=0.9411956667900085, pvalue=0.0)\n"
     ]
    }
   ],
   "source": [
    "print(stats.shapiro(predicted_features_query))\n",
    "print(stats.shapiro(predicted_features_gallery))"
   ]
  },
  {
   "cell_type": "code",
   "execution_count": 113,
   "metadata": {},
   "outputs": [
    {
     "data": {
      "text/plain": [
       "0.523017507869232"
      ]
     },
     "execution_count": 113,
     "metadata": {},
     "output_type": "execute_result"
    }
   ],
   "source": [
    "ks_all = [stats.ks_2samp(predicted_features_query[:,i], predicted_features_gallery[:,i])[1] for i in range(predicted_features_query.shape[1])]\n",
    "sum(ks_all)"
   ]
  },
  {
   "cell_type": "code",
   "execution_count": 119,
   "metadata": {},
   "outputs": [
    {
     "data": {
      "text/plain": [
       "0.5226299999714424"
      ]
     },
     "execution_count": 119,
     "metadata": {},
     "output_type": "execute_result"
    }
   ],
   "source": [
    "ks_all = [stats.ks_2samp(predicted_features_query[:,i], predicted_features_gallery[:,i])[1] for i in range(predicted_features_query.shape[1])]\n",
    "sum(ks_all)"
   ]
  },
  {
   "cell_type": "markdown",
   "metadata": {},
   "source": [
    "# Distance"
   ]
  },
  {
   "cell_type": "code",
   "execution_count": 5,
   "metadata": {},
   "outputs": [],
   "source": [
    "scores_basline = -scores"
   ]
  },
  {
   "cell_type": "code",
   "execution_count": 8,
   "metadata": {},
   "outputs": [],
   "source": [
    "scores_kld = -scores"
   ]
  },
  {
   "cell_type": "code",
   "execution_count": 9,
   "metadata": {},
   "outputs": [],
   "source": [
    "matrix_query = np.expand_dims(gt_labels_query,1).repeat(len(gt_labels_gallery), axis=1)\n",
    "matrix_gallery = np.expand_dims(gt_labels_gallery,0).repeat(len(gt_labels_query), axis=0)\n",
    "pair_mask = matrix_query == matrix_gallery\n",
    "scores_baseline_flatten = scores_basline.flatten()[::10000]\n",
    "pair_scores_baseline_flatten = scores_basline[pair_mask].flatten()[::1000]\n",
    "scores_kld_flatten = scores_kld.flatten()[::10000]\n",
    "pair_scores_kld_flatten = scores_kld[pair_mask].flatten()[::1000]"
   ]
  },
  {
   "cell_type": "code",
   "execution_count": 42,
   "metadata": {},
   "outputs": [
    {
     "data": {
      "image/png": "[encoded data removed]",
      "text/plain": [
       "<Figure size 864x576 with 1 Axes>"
      ]
     },
     "metadata": {},
     "output_type": "display_data"
    }
   ],
   "source": [
    "sns.set_theme()\n",
    "sns.set_context(\"talk\")\n",
    "# sns.set_context(font_scale=13)\n",
    "fig, ax = plt.subplots(figsize=(12, 8))\n",
    "bins = np.histogram_bin_edges(pair_scores_baseline_flatten, bins=60)\n",
    "colors = sns.color_palette()\n",
    "sns.histplot(pair_scores_baseline_flatten, ax=ax, color=colors[0], stat='percent', bins=bins)\n",
    "sns.histplot(pair_scores_kld_flatten, ax=ax, color=colors[1], stat='percent', bins=bins)\n",
    "plt.legend(labels=['w/o $\\mathcal{L}_{dist}$', 'w/ $\\mathcal{L}_{dist}$'], loc='upper left')\n",
    "plt.savefig('paired_dist.pdf', format='pdf')"
   ]
  },
  {
   "cell_type": "code",
   "execution_count": 40,
   "metadata": {},
   "outputs": [
    {
     "data": {
      "image/png": "[encoded data removed]",
      "text/plain": [
       "<Figure size 864x576 with 1 Axes>"
      ]
     },
     "metadata": {},
     "output_type": "display_data"
    }
   ],
   "source": [
    "fig, ax = plt.subplots(figsize=(12, 8))\n",
    "bins = np.histogram_bin_edges(scores_baseline_flatten, bins=60)\n",
    "sns.histplot(scores_baseline_flatten, ax=ax, color=colors[0], bins=bins, stat='percent')\n",
    "sns.histplot(scores_kld_flatten, ax=ax, color=colors[1], bins=bins, stat='percent')\n",
    "plt.legend(labels=['w/o $\\mathcal{L}_{dist}$', 'w/ $\\mathcal{L}_{dist}$'])\n",
    "plt.savefig('unpaired_dist.pdf', format='pdf')"
   ]
  }
 ],
 "metadata": {
  "kernelspec": {
   "display_name": "Python 3.8.8 ('zeroshot')",
   "language": "python",
   "name": "python3"
  },
  "language_info": {
   "codemirror_mode": {
    "name": "ipython",
    "version": 3
   },
   "file_extension": ".py",
   "mimetype": "text/x-python",
   "name": "python",
   "nbconvert_exporter": "python",
   "pygments_lexer": "ipython3",
   "version": "3.8.8"
  },
  "orig_nbformat": 4,
  "vscode": {
   "interpreter": {
    "hash": "2a7429b05b189a65ba315172f1369c288964bb961aeb1e0bb1705ef7b424a2bc"
   }
  }
 },
 "nbformat": 4,
 "nbformat_minor": 2
}
